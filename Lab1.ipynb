{
 "cells": [
  {
   "cell_type": "code",
   "execution_count": 1,
   "metadata": {},
   "outputs": [],
   "source": [
    "import math as mt\n",
    "import statistics as st"
   ]
  },
  {
   "cell_type": "code",
   "execution_count": 2,
   "metadata": {},
   "outputs": [
    {
     "name": "stdout",
     "output_type": "stream",
     "text": [
      "1\n",
      "1.0\n"
     ]
    }
   ],
   "source": [
    "def m1(arr1):\n",
    "    mean=sum(arr1)/len(arr1)\n",
    "    print(mean)\n",
    "arr1=list(map(int,input().split()))\n",
    "m1(arr1)"
   ]
  },
  {
   "cell_type": "code",
   "execution_count": 3,
   "metadata": {},
   "outputs": [
    {
     "name": "stdout",
     "output_type": "stream",
     "text": [
      "1 2 3\n",
      "Mean:  2.0\n"
     ]
    }
   ],
   "source": [
    "# Python program to print\n",
    "# mean of elements\n",
    "def mean(arr2):\n",
    "    n=len(arr2)\n",
    "    sum=0\n",
    "    for i in range(0,n):\n",
    "        sum+=arr2[i]\n",
    "    mean=sum/n\n",
    "    print(\"Mean: \",mean)\n",
    "arr2=list(map(int,input().split()))\n",
    "mean(arr2)"
   ]
  },
  {
   "cell_type": "code",
   "execution_count": 6,
   "metadata": {},
   "outputs": [
    {
     "name": "stdout",
     "output_type": "stream",
     "text": [
      "1 2 3 4 5\n",
      "Median:  3\n"
     ]
    }
   ],
   "source": [
    "# Python program to printhon-input-7-947830321774>\"\n",
    "# median of elements\n",
    "def median(arr3):\n",
    "    arr3.sort()\n",
    "    n=len(arr3)\n",
    "    index=0\n",
    "    if n%2!=0:\n",
    "        index=n//2\n",
    "        median=arr3[index]\n",
    "    else:\n",
    "        index=n//2\n",
    "        median=(arr3[index]+arr3[index+1])/2\n",
    "    print(\"Median: \",median)\n",
    "    \n",
    "arr3=list(map(int,input().split()))\n",
    "median(arr3)"
   ]
  },
  {
   "cell_type": "code",
   "execution_count": 7,
   "metadata": {},
   "outputs": [
    {
     "name": "stdout",
     "output_type": "stream",
     "text": [
      "1 2 2 3\n",
      "Mode:  2\n"
     ]
    }
   ],
   "source": [
    "# Python program to print\n",
    "# mode of elements\n",
    "def mode(z):\n",
    "    z.sort()\n",
    "    n=len(z)\n",
    "    md=0\n",
    "    freq=[0]*max(z)\n",
    "    for i in z:\n",
    "        freq[i-1]+=1\n",
    "    md=freq.index(max(freq))+1\n",
    "    print(\"Mode: \",md)\n",
    "#mode1([2,3,4,5,4,4,6,6])\n",
    "z=list(map(int,input().split()))\n",
    "mode(z) "
   ]
  },
  {
   "cell_type": "code",
   "execution_count": null,
   "metadata": {},
   "outputs": [],
   "source": []
  }
 ],
 "metadata": {
  "kernelspec": {
   "display_name": "Python 3",
   "language": "python",
   "name": "python3"
  },
  "language_info": {
   "codemirror_mode": {
    "name": "ipython",
    "version": 3
   },
   "file_extension": ".py",
   "mimetype": "text/x-python",
   "name": "python",
   "nbconvert_exporter": "python",
   "pygments_lexer": "ipython3",
   "version": "3.6.9"
  }
 },
 "nbformat": 4,
 "nbformat_minor": 2
}
