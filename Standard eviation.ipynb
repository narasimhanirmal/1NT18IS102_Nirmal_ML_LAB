{
 "cells": [
  {
   "cell_type": "code",
   "execution_count": 20,
   "metadata": {},
   "outputs": [
    {
     "data": {
      "text/plain": [
       "250.0"
      ]
     },
     "execution_count": 20,
     "metadata": {},
     "output_type": "execute_result"
    }
   ],
   "source": [
    "myList = [100,200,300,400]\n",
    "def mean(list):\n",
    "    sum = 0\n",
    "    for i in range(len(myList)):\n",
    "        sum = sum + myList[i]\n",
    "    myMean = sum/len(myList)\n",
    "    return myMean\n",
    "mean(myList)"
   ]
  },
  {
   "cell_type": "code",
   "execution_count": 21,
   "metadata": {},
   "outputs": [
    {
     "data": {
      "text/plain": [
       "111.80339887498948"
      ]
     },
     "execution_count": 21,
     "metadata": {},
     "output_type": "execute_result"
    }
   ],
   "source": [
    "import math\n",
    "def standardDeviation(list,mean):\n",
    "    var = 0\n",
    "    for i in range(len(list)):\n",
    "        var = var + (list[i] - mean)**2\n",
    "    var = var/len(list)\n",
    "    return math.sqrt(var)\n",
    "mean = mean(myList)\n",
    "standardDeviation(myList,mean)\n",
    "        \n",
    "    "
   ]
  },
  {
   "cell_type": "code",
   "execution_count": 22,
   "metadata": {},
   "outputs": [],
   "source": [
    "import numpy as np\n"
   ]
  },
  {
   "cell_type": "code",
   "execution_count": 23,
   "metadata": {},
   "outputs": [
    {
     "name": "stdout",
     "output_type": "stream",
     "text": [
      "250.0\n",
      "111.80339887498948\n"
     ]
    }
   ],
   "source": [
    "print(np.mean(myList))\n",
    "print(np.std(myList))"
   ]
  },
  {
   "cell_type": "code",
   "execution_count": 26,
   "metadata": {},
   "outputs": [
    {
     "data": {
      "text/plain": [
       "[0.0, 0.3333333333333333, 0.6666666666666666, 1.0]"
      ]
     },
     "execution_count": 26,
     "metadata": {},
     "output_type": "execute_result"
    }
   ],
   "source": [
    "def standardization(list):\n",
    "    myMax = max(list)\n",
    "    myMin = min(list)\n",
    "    normal = []\n",
    "    for x in list:\n",
    "        normalx = (x-myMin)/(myMax-myMin)\n",
    "        normal.append(normalx)\n",
    "    return normal\n",
    "standardization(myList)"
   ]
  },
  {
   "cell_type": "code",
   "execution_count": 27,
   "metadata": {},
   "outputs": [
    {
     "data": {
      "text/plain": [
       "[-1.3416407864998738,\n",
       " -0.4472135954999579,\n",
       " 0.4472135954999579,\n",
       " 1.3416407864998738]"
      ]
     },
     "execution_count": 27,
     "metadata": {},
     "output_type": "execute_result"
    }
   ],
   "source": [
    "def standardization(list):\n",
    "    mean = np.mean(list)\n",
    "    std = np.std(list)\n",
    "    normal = []\n",
    "    for x in list:\n",
    "        normalx = (x-mean)/std\n",
    "        normal.append(normalx)\n",
    "    return normal\n",
    "standardization(myList)"
   ]
  }
 ],
 "metadata": {
  "kernelspec": {
   "display_name": "Python 3",
   "language": "python",
   "name": "python3"
  },
  "language_info": {
   "codemirror_mode": {
    "name": "ipython",
    "version": 3
   },
   "file_extension": ".py",
   "mimetype": "text/x-python",
   "name": "python",
   "nbconvert_exporter": "python",
   "pygments_lexer": "ipython3",
   "version": "3.6.9"
  }
 },
 "nbformat": 4,
 "nbformat_minor": 2
}
